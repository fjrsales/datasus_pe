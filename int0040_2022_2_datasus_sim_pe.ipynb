{
  "nbformat": 4,
  "nbformat_minor": 0,
  "metadata": {
    "colab": {
      "provenance": [],
      "authorship_tag": "ABX9TyM83SSsim7ZzYx09lL/tLVc",
      "include_colab_link": true
    },
    "kernelspec": {
      "name": "python3",
      "display_name": "Python 3"
    },
    "language_info": {
      "name": "python"
    }
  },
  "cells": [
    {
      "cell_type": "markdown",
      "metadata": {
        "id": "view-in-github",
        "colab_type": "text"
      },
      "source": [
        "<a href=\"https://colab.research.google.com/github/fjrsales/datasus_pe/blob/main/int0040_2022_2_datasus_sim_pe.ipynb\" target=\"_parent\"><img src=\"https://colab.research.google.com/assets/colab-badge.svg\" alt=\"Open In Colab\"/></a>"
      ]
    },
    {
      "cell_type": "markdown",
      "source": [
        "# Exercício - Apresentação 13/03 [trabalho em equipe]\n",
        "\n",
        "Arquivo base: https://drive.google.com/drive/folders/1RsWSW-o4vthSPnP5g6oVxChDzB7sM6rr?usp=sharing\n",
        "\n",
        "-- Determinação dos perfis de mortalidade no estado de Pernambuco no período de 2010 a 2019.\n",
        "\n",
        "-- Fonte: Sistema de Informações de Mortalidade (SIM)DataSUS -- Origem dos dados: declarações de óbito\n",
        "\n",
        "A fazer:\n",
        "\n",
        "a. Faça uma função que retorna a porcentagem de dados não-nulos para cada coluna, o que pode ser útil no processo de tratamento dos dados; [usem funções existentes no pandas]\n",
        "\n",
        "b. Tratar os dados originais separando somente as colunas de interesse listadas a seguir. Se houver dados do tipo data, garanta que os mesmos foram importados dessa forma;\n",
        "\n",
        "c. Verifiquem a integridade dos dados. Por exemplo, a base deve conter somente dados de mortalidade do estado de PE e no período de 2010 a 2019.\n",
        "\n",
        "d. Os dados das colunas LINHAA, LINHAB, LINHAC, LINHAD, LINHAII, CAUSABAS e CAUSABAS_O contêm códigos referentes à CID-10 [classificação internacional de doenças]. Faça uma função que retorne um dicionário com as causas de óbito e as respectivas contagens em ordem decrescente, sendo os códigos CID as chaves e as contagens os valores.\n",
        "\n",
        "e. Faça uma função que retorna o nome da doença a partir do código CID-10. Os arquivos contendo as descrições do CID estão disponíveis também no diretótio compartilhado.\n",
        "\n",
        "f. Faça uma função que identifica o capítulo do CID e a categoria a partir do código CID.\n",
        "\n",
        "g. Determine as 10 maiores causas de morte por ano em ordem decrescente, trazendo o número de mortes por causa e a porcentagem em relação ao total de mortos no ano/período;\n",
        "\n",
        "h. Verifique se houve mudança no ranking, ano a ano;\n",
        "\n",
        "i. Defina qual foram as 10 principais causas de morte nos dados acumulados;\n",
        "\n",
        "j. Identifique os 10 municípios com maior casos de morte;\n",
        "\n",
        "k. Verifique, por ano, quantas mortes ocorreram fora do munícipio de residência da pessoa que foi a óbito;\n",
        "\n",
        "l. Criem novos commits à medida que forem avançando com o desenvolvimento do projeto;"
      ],
      "metadata": {
        "id": "JJg94JQdViLT"
      }
    }
  ]
}